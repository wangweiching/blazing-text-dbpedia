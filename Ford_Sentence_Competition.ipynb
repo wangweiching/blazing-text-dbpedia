{
 "cells": [
  {
   "cell_type": "code",
   "execution_count": 2,
   "id": "0fe1a755-4632-4441-8cec-6b15311cbde4",
   "metadata": {},
   "outputs": [],
   "source": [
    "import numpy as np\n",
    "from sklearn.naive_bayes import MultinomialNB\n",
    "from sklearn.feature_extraction.text import CountVectorizer\n",
    "import pandas as pd\n",
    "from sklearn.feature_extraction.text import TfidfTransformer"
   ]
  },
  {
   "cell_type": "code",
   "execution_count": 30,
   "id": "65d394b8-55cc-45c2-a114-332d5b0f1cfd",
   "metadata": {},
   "outputs": [],
   "source": [
    "df = pd.read_csv('/home/studio-lab-user/kaggle/input/ford-sentence-classifiaction-dataset/train_data.csv')"
   ]
  },
  {
   "cell_type": "code",
   "execution_count": 52,
   "id": "1e48b54a-030b-4b31-8e66-2d136f78b562",
   "metadata": {},
   "outputs": [],
   "source": [
    "df_test = pd.read_csv('/home/studio-lab-user/kaggle/input/ford-sentence-classifiaction-dataset/test_data.csv')"
   ]
  },
  {
   "cell_type": "code",
   "execution_count": 54,
   "id": "f3e6a68a-9b5f-49bd-8c70-aefb61c2e4e9",
   "metadata": {},
   "outputs": [],
   "source": [
    "df_sample = pd.read_csv('/home/studio-lab-user/kaggle/input/ford-sentence-classifiaction-dataset/sample_submission.csv')"
   ]
  },
  {
   "cell_type": "code",
   "execution_count": 55,
   "id": "2af71b2e-9655-45fa-8113-71d5f156f722",
   "metadata": {},
   "outputs": [
    {
     "data": {
      "text/html": [
       "<div>\n",
       "<style scoped>\n",
       "    .dataframe tbody tr th:only-of-type {\n",
       "        vertical-align: middle;\n",
       "    }\n",
       "\n",
       "    .dataframe tbody tr th {\n",
       "        vertical-align: top;\n",
       "    }\n",
       "\n",
       "    .dataframe thead th {\n",
       "        text-align: right;\n",
       "    }\n",
       "</style>\n",
       "<table border=\"1\" class=\"dataframe\">\n",
       "  <thead>\n",
       "    <tr style=\"text-align: right;\">\n",
       "      <th></th>\n",
       "      <th>Sentence_id</th>\n",
       "      <th>Type</th>\n",
       "    </tr>\n",
       "  </thead>\n",
       "  <tbody>\n",
       "    <tr>\n",
       "      <th>0</th>\n",
       "      <td>GERRES15609</td>\n",
       "      <td>Responsibility</td>\n",
       "    </tr>\n",
       "    <tr>\n",
       "      <th>1</th>\n",
       "      <td>PHERES15784</td>\n",
       "      <td>Responsibility</td>\n",
       "    </tr>\n",
       "    <tr>\n",
       "      <th>2</th>\n",
       "      <td>GERREQ10457</td>\n",
       "      <td>Requirement</td>\n",
       "    </tr>\n",
       "    <tr>\n",
       "      <th>3</th>\n",
       "      <td>GERSKL27235</td>\n",
       "      <td>Skill</td>\n",
       "    </tr>\n",
       "    <tr>\n",
       "      <th>4</th>\n",
       "      <td>HONSSK18415</td>\n",
       "      <td>SoftSkill</td>\n",
       "    </tr>\n",
       "  </tbody>\n",
       "</table>\n",
       "</div>"
      ],
      "text/plain": [
       "   Sentence_id            Type\n",
       "0  GERRES15609  Responsibility\n",
       "1  PHERES15784  Responsibility\n",
       "2  GERREQ10457     Requirement\n",
       "3  GERSKL27235           Skill\n",
       "4  HONSSK18415       SoftSkill"
      ]
     },
     "execution_count": 55,
     "metadata": {},
     "output_type": "execute_result"
    }
   ],
   "source": [
    "df_sample.head()"
   ]
  },
  {
   "cell_type": "code",
   "execution_count": 32,
   "id": "84479116-78c9-4703-acd6-ebe354ecec2a",
   "metadata": {},
   "outputs": [
    {
     "data": {
      "text/html": [
       "<div>\n",
       "<style scoped>\n",
       "    .dataframe tbody tr th:only-of-type {\n",
       "        vertical-align: middle;\n",
       "    }\n",
       "\n",
       "    .dataframe tbody tr th {\n",
       "        vertical-align: top;\n",
       "    }\n",
       "\n",
       "    .dataframe thead th {\n",
       "        text-align: right;\n",
       "    }\n",
       "</style>\n",
       "<table border=\"1\" class=\"dataframe\">\n",
       "  <thead>\n",
       "    <tr style=\"text-align: right;\">\n",
       "      <th></th>\n",
       "      <th>Unnamed: 0</th>\n",
       "      <th>Sentence_id</th>\n",
       "      <th>New_Sentence</th>\n",
       "    </tr>\n",
       "  </thead>\n",
       "  <tbody>\n",
       "    <tr>\n",
       "      <th>0</th>\n",
       "      <td>0</td>\n",
       "      <td>UAERES16346</td>\n",
       "      <td>Collaborate across all of DB&amp;T practices and o...</td>\n",
       "    </tr>\n",
       "    <tr>\n",
       "      <th>1</th>\n",
       "      <td>1</td>\n",
       "      <td>COGREQ15586</td>\n",
       "      <td>Strong  technology expertise in Identity and A...</td>\n",
       "    </tr>\n",
       "    <tr>\n",
       "      <th>2</th>\n",
       "      <td>2</td>\n",
       "      <td>UAEREQ12722</td>\n",
       "      <td>Strong knowledge on Service  Virtualization.</td>\n",
       "    </tr>\n",
       "    <tr>\n",
       "      <th>3</th>\n",
       "      <td>3</td>\n",
       "      <td>COGSKL29155</td>\n",
       "      <td>Architect scalable data processing and analyti...</td>\n",
       "    </tr>\n",
       "    <tr>\n",
       "      <th>4</th>\n",
       "      <td>4</td>\n",
       "      <td>PHERES12551</td>\n",
       "      <td>Map client organization, build outstanding rel...</td>\n",
       "    </tr>\n",
       "  </tbody>\n",
       "</table>\n",
       "</div>"
      ],
      "text/plain": [
       "   Unnamed: 0  Sentence_id                                       New_Sentence\n",
       "0           0  UAERES16346  Collaborate across all of DB&T practices and o...\n",
       "1           1  COGREQ15586  Strong  technology expertise in Identity and A...\n",
       "2           2  UAEREQ12722       Strong knowledge on Service  Virtualization.\n",
       "3           3  COGSKL29155  Architect scalable data processing and analyti...\n",
       "4           4  PHERES12551  Map client organization, build outstanding rel..."
      ]
     },
     "execution_count": 32,
     "metadata": {},
     "output_type": "execute_result"
    }
   ],
   "source": [
    "df_test.head()"
   ]
  },
  {
   "cell_type": "code",
   "execution_count": null,
   "id": "a67734fd-2e09-4e27-8c7d-bfb4685f0167",
   "metadata": {},
   "outputs": [],
   "source": []
  },
  {
   "cell_type": "code",
   "execution_count": 4,
   "id": "e45b0007-95bd-4ba6-a4f8-2763746205cd",
   "metadata": {},
   "outputs": [
    {
     "name": "stdout",
     "output_type": "stream",
     "text": [
      "<class 'pandas.core.frame.DataFrame'>\n",
      "RangeIndex: 60115 entries, 0 to 60114\n",
      "Data columns (total 4 columns):\n",
      " #   Column        Non-Null Count  Dtype \n",
      "---  ------        --------------  ----- \n",
      " 0   Unnamed: 0    60115 non-null  int64 \n",
      " 1   Sentence_id   60115 non-null  object\n",
      " 2   New_Sentence  59002 non-null  object\n",
      " 3   Type          60115 non-null  object\n",
      "dtypes: int64(1), object(3)\n",
      "memory usage: 1.8+ MB\n"
     ]
    }
   ],
   "source": [
    " df.info()"
   ]
  },
  {
   "cell_type": "code",
   "execution_count": 5,
   "id": "ec0e50f5-04b6-4bfb-a6cf-b20085d0ca1f",
   "metadata": {},
   "outputs": [
    {
     "data": {
      "text/html": [
       "<div>\n",
       "<style scoped>\n",
       "    .dataframe tbody tr th:only-of-type {\n",
       "        vertical-align: middle;\n",
       "    }\n",
       "\n",
       "    .dataframe tbody tr th {\n",
       "        vertical-align: top;\n",
       "    }\n",
       "\n",
       "    .dataframe thead th {\n",
       "        text-align: right;\n",
       "    }\n",
       "</style>\n",
       "<table border=\"1\" class=\"dataframe\">\n",
       "  <thead>\n",
       "    <tr style=\"text-align: right;\">\n",
       "      <th></th>\n",
       "      <th>Unnamed: 0</th>\n",
       "      <th>Sentence_id</th>\n",
       "      <th>New_Sentence</th>\n",
       "      <th>Type</th>\n",
       "    </tr>\n",
       "  </thead>\n",
       "  <tbody>\n",
       "    <tr>\n",
       "      <th>0</th>\n",
       "      <td>0</td>\n",
       "      <td>GERRES15609</td>\n",
       "      <td>Author and/or Review architecture/design and o...</td>\n",
       "      <td>Responsibility</td>\n",
       "    </tr>\n",
       "    <tr>\n",
       "      <th>1</th>\n",
       "      <td>1</td>\n",
       "      <td>PHERES15784</td>\n",
       "      <td>Should be able to develop custom dynamic shape...</td>\n",
       "      <td>Responsibility</td>\n",
       "    </tr>\n",
       "    <tr>\n",
       "      <th>2</th>\n",
       "      <td>2</td>\n",
       "      <td>GERREQ10457</td>\n",
       "      <td>Experience in working crosslly with a  larger ...</td>\n",
       "      <td>Requirement</td>\n",
       "    </tr>\n",
       "    <tr>\n",
       "      <th>3</th>\n",
       "      <td>3</td>\n",
       "      <td>GERSKL27235</td>\n",
       "      <td>Previous business experience, including but no...</td>\n",
       "      <td>Skill</td>\n",
       "    </tr>\n",
       "    <tr>\n",
       "      <th>4</th>\n",
       "      <td>4</td>\n",
       "      <td>HONSSK18415</td>\n",
       "      <td>Delivering fast and right the first  time.</td>\n",
       "      <td>SoftSkill</td>\n",
       "    </tr>\n",
       "  </tbody>\n",
       "</table>\n",
       "</div>"
      ],
      "text/plain": [
       "   Unnamed: 0  Sentence_id                                       New_Sentence  \\\n",
       "0           0  GERRES15609  Author and/or Review architecture/design and o...   \n",
       "1           1  PHERES15784  Should be able to develop custom dynamic shape...   \n",
       "2           2  GERREQ10457  Experience in working crosslly with a  larger ...   \n",
       "3           3  GERSKL27235  Previous business experience, including but no...   \n",
       "4           4  HONSSK18415         Delivering fast and right the first  time.   \n",
       "\n",
       "             Type  \n",
       "0  Responsibility  \n",
       "1  Responsibility  \n",
       "2     Requirement  \n",
       "3           Skill  \n",
       "4       SoftSkill  "
      ]
     },
     "execution_count": 5,
     "metadata": {},
     "output_type": "execute_result"
    }
   ],
   "source": [
    "df.head()"
   ]
  },
  {
   "cell_type": "code",
   "execution_count": 6,
   "id": "e0bdcfd0-3be1-4939-a64f-60b4cc9850f1",
   "metadata": {},
   "outputs": [
    {
     "data": {
      "text/html": [
       "<div>\n",
       "<style scoped>\n",
       "    .dataframe tbody tr th:only-of-type {\n",
       "        vertical-align: middle;\n",
       "    }\n",
       "\n",
       "    .dataframe tbody tr th {\n",
       "        vertical-align: top;\n",
       "    }\n",
       "\n",
       "    .dataframe thead th {\n",
       "        text-align: right;\n",
       "    }\n",
       "</style>\n",
       "<table border=\"1\" class=\"dataframe\">\n",
       "  <thead>\n",
       "    <tr style=\"text-align: right;\">\n",
       "      <th></th>\n",
       "      <th>Unnamed: 0</th>\n",
       "      <th>Sentence_id</th>\n",
       "      <th>New_Sentence</th>\n",
       "      <th>Type</th>\n",
       "    </tr>\n",
       "  </thead>\n",
       "  <tbody>\n",
       "    <tr>\n",
       "      <th>0</th>\n",
       "      <td>0</td>\n",
       "      <td>GERRES15609</td>\n",
       "      <td>Author and/or Review architecture/design and o...</td>\n",
       "      <td>Responsibility</td>\n",
       "    </tr>\n",
       "    <tr>\n",
       "      <th>1</th>\n",
       "      <td>1</td>\n",
       "      <td>PHERES15784</td>\n",
       "      <td>Should be able to develop custom dynamic shape...</td>\n",
       "      <td>Responsibility</td>\n",
       "    </tr>\n",
       "    <tr>\n",
       "      <th>2</th>\n",
       "      <td>2</td>\n",
       "      <td>GERREQ10457</td>\n",
       "      <td>Experience in working crosslly with a  larger ...</td>\n",
       "      <td>Requirement</td>\n",
       "    </tr>\n",
       "    <tr>\n",
       "      <th>3</th>\n",
       "      <td>3</td>\n",
       "      <td>GERSKL27235</td>\n",
       "      <td>Previous business experience, including but no...</td>\n",
       "      <td>Skill</td>\n",
       "    </tr>\n",
       "    <tr>\n",
       "      <th>4</th>\n",
       "      <td>4</td>\n",
       "      <td>HONSSK18415</td>\n",
       "      <td>Delivering fast and right the first  time.</td>\n",
       "      <td>SoftSkill</td>\n",
       "    </tr>\n",
       "    <tr>\n",
       "      <th>...</th>\n",
       "      <td>...</td>\n",
       "      <td>...</td>\n",
       "      <td>...</td>\n",
       "      <td>...</td>\n",
       "    </tr>\n",
       "    <tr>\n",
       "      <th>60110</th>\n",
       "      <td>60110</td>\n",
       "      <td>UAERES18030</td>\n",
       "      <td>In this position, you will  utilize your progr...</td>\n",
       "      <td>Responsibility</td>\n",
       "    </tr>\n",
       "    <tr>\n",
       "      <th>60111</th>\n",
       "      <td>60111</td>\n",
       "      <td>GERRES3026</td>\n",
       "      <td>In addition, this individual will be responsib...</td>\n",
       "      <td>Responsibility</td>\n",
       "    </tr>\n",
       "    <tr>\n",
       "      <th>60112</th>\n",
       "      <td>60112</td>\n",
       "      <td>INDSSK5492</td>\n",
       "      <td>Good problem  solving skills.</td>\n",
       "      <td>SoftSkill</td>\n",
       "    </tr>\n",
       "    <tr>\n",
       "      <th>60113</th>\n",
       "      <td>60113</td>\n",
       "      <td>PHESSK15092</td>\n",
       "      <td>Good Excel knowledge  .</td>\n",
       "      <td>SoftSkill</td>\n",
       "    </tr>\n",
       "    <tr>\n",
       "      <th>60114</th>\n",
       "      <td>60114</td>\n",
       "      <td>HONEDU1643</td>\n",
       "      <td>Bachelors Degree in  Electrical Engineering, M...</td>\n",
       "      <td>Education</td>\n",
       "    </tr>\n",
       "  </tbody>\n",
       "</table>\n",
       "<p>59002 rows × 4 columns</p>\n",
       "</div>"
      ],
      "text/plain": [
       "       Unnamed: 0  Sentence_id  \\\n",
       "0               0  GERRES15609   \n",
       "1               1  PHERES15784   \n",
       "2               2  GERREQ10457   \n",
       "3               3  GERSKL27235   \n",
       "4               4  HONSSK18415   \n",
       "...           ...          ...   \n",
       "60110       60110  UAERES18030   \n",
       "60111       60111   GERRES3026   \n",
       "60112       60112   INDSSK5492   \n",
       "60113       60113  PHESSK15092   \n",
       "60114       60114   HONEDU1643   \n",
       "\n",
       "                                            New_Sentence            Type  \n",
       "0      Author and/or Review architecture/design and o...  Responsibility  \n",
       "1      Should be able to develop custom dynamic shape...  Responsibility  \n",
       "2      Experience in working crosslly with a  larger ...     Requirement  \n",
       "3      Previous business experience, including but no...           Skill  \n",
       "4             Delivering fast and right the first  time.       SoftSkill  \n",
       "...                                                  ...             ...  \n",
       "60110  In this position, you will  utilize your progr...  Responsibility  \n",
       "60111  In addition, this individual will be responsib...  Responsibility  \n",
       "60112                      Good problem  solving skills.       SoftSkill  \n",
       "60113                            Good Excel knowledge  .       SoftSkill  \n",
       "60114  Bachelors Degree in  Electrical Engineering, M...       Education  \n",
       "\n",
       "[59002 rows x 4 columns]"
      ]
     },
     "execution_count": 6,
     "metadata": {},
     "output_type": "execute_result"
    }
   ],
   "source": [
    "df.dropna()"
   ]
  },
  {
   "cell_type": "code",
   "execution_count": 7,
   "id": "cb48be87-538b-4457-a8d9-ad965809c62e",
   "metadata": {},
   "outputs": [
    {
     "name": "stderr",
     "output_type": "stream",
     "text": [
      "[nltk_data] Downloading package punkt to /home/studio-lab-\n",
      "[nltk_data]     user/nltk_data...\n",
      "[nltk_data]   Package punkt is already up-to-date!\n",
      "[nltk_data] Downloading package stopwords to /home/studio-lab-\n",
      "[nltk_data]     user/nltk_data...\n",
      "[nltk_data]   Package stopwords is already up-to-date!\n"
     ]
    }
   ],
   "source": [
    "import nltk\n",
    "from nltk.stem import WordNetLemmatizer \n",
    "lemmatizer = WordNetLemmatizer()\n",
    "import nltk\n",
    "import re\n",
    "nltk.download('punkt')\n",
    "nltk.download('stopwords')\n",
    "from nltk.corpus import stopwords\n",
    "from nltk.stem import SnowballStemmer\n",
    "from nltk.tokenize import word_tokenize"
   ]
  },
  {
   "cell_type": "code",
   "execution_count": 43,
   "id": "a7c35017-fc3b-421f-9336-de43699f0223",
   "metadata": {},
   "outputs": [
    {
     "data": {
      "text/html": [
       "<div>\n",
       "<style scoped>\n",
       "    .dataframe tbody tr th:only-of-type {\n",
       "        vertical-align: middle;\n",
       "    }\n",
       "\n",
       "    .dataframe tbody tr th {\n",
       "        vertical-align: top;\n",
       "    }\n",
       "\n",
       "    .dataframe thead th {\n",
       "        text-align: right;\n",
       "    }\n",
       "</style>\n",
       "<table border=\"1\" class=\"dataframe\">\n",
       "  <thead>\n",
       "    <tr style=\"text-align: right;\">\n",
       "      <th></th>\n",
       "      <th>Unnamed: 0</th>\n",
       "      <th>Sentence_id</th>\n",
       "      <th>New_Sentence</th>\n",
       "      <th>Type</th>\n",
       "      <th>cleanNewSentence</th>\n",
       "    </tr>\n",
       "  </thead>\n",
       "  <tbody>\n",
       "    <tr>\n",
       "      <th>0</th>\n",
       "      <td>0</td>\n",
       "      <td>GERRES15609</td>\n",
       "      <td>Author and/or Review architecture/design and o...</td>\n",
       "      <td>Responsibility</td>\n",
       "      <td>author review architecture design technical do...</td>\n",
       "    </tr>\n",
       "    <tr>\n",
       "      <th>1</th>\n",
       "      <td>1</td>\n",
       "      <td>PHERES15784</td>\n",
       "      <td>Should be able to develop custom dynamic shape...</td>\n",
       "      <td>Responsibility</td>\n",
       "      <td>able develop custom dynamic shape object scrip...</td>\n",
       "    </tr>\n",
       "    <tr>\n",
       "      <th>2</th>\n",
       "      <td>2</td>\n",
       "      <td>GERREQ10457</td>\n",
       "      <td>Experience in working crosslly with a  larger ...</td>\n",
       "      <td>Requirement</td>\n",
       "      <td>experience working crosslly larger engineering...</td>\n",
       "    </tr>\n",
       "    <tr>\n",
       "      <th>3</th>\n",
       "      <td>3</td>\n",
       "      <td>GERSKL27235</td>\n",
       "      <td>Previous business experience, including but no...</td>\n",
       "      <td>Skill</td>\n",
       "      <td>previous business experience including not lim...</td>\n",
       "    </tr>\n",
       "    <tr>\n",
       "      <th>4</th>\n",
       "      <td>4</td>\n",
       "      <td>HONSSK18415</td>\n",
       "      <td>Delivering fast and right the first  time.</td>\n",
       "      <td>SoftSkill</td>\n",
       "      <td>delivering fast right first time</td>\n",
       "    </tr>\n",
       "    <tr>\n",
       "      <th>5</th>\n",
       "      <td>5</td>\n",
       "      <td>INDRES9494</td>\n",
       "      <td>Track  department expenses and capital budget .</td>\n",
       "      <td>Responsibility</td>\n",
       "      <td>track department expenses capital budget</td>\n",
       "    </tr>\n",
       "    <tr>\n",
       "      <th>6</th>\n",
       "      <td>6</td>\n",
       "      <td>HONRES51852</td>\n",
       "      <td>Meet  performance metrics.</td>\n",
       "      <td>Responsibility</td>\n",
       "      <td>meet performance metrics</td>\n",
       "    </tr>\n",
       "    <tr>\n",
       "      <th>7</th>\n",
       "      <td>7</td>\n",
       "      <td>UAEREQ34683</td>\n",
       "      <td>YOU MUST HAVEBachelors degree  in Engineering.</td>\n",
       "      <td>Requirement</td>\n",
       "      <td>must havebachelors degree engineering</td>\n",
       "    </tr>\n",
       "    <tr>\n",
       "      <th>8</th>\n",
       "      <td>8</td>\n",
       "      <td>UAEREQ4612</td>\n",
       "      <td>After COVID-19: Ability to travel to manufactu...</td>\n",
       "      <td>Requirement</td>\n",
       "      <td>covid-19 ability travel manufacturing site ohi...</td>\n",
       "    </tr>\n",
       "    <tr>\n",
       "      <th>9</th>\n",
       "      <td>9</td>\n",
       "      <td>INDEDU42721</td>\n",
       "      <td>Six Sigma qualification to  at least Green Bel...</td>\n",
       "      <td>Education</td>\n",
       "      <td>six sigma qualification least green belt level</td>\n",
       "    </tr>\n",
       "  </tbody>\n",
       "</table>\n",
       "</div>"
      ],
      "text/plain": [
       "   Unnamed: 0  Sentence_id                                       New_Sentence  \\\n",
       "0           0  GERRES15609  Author and/or Review architecture/design and o...   \n",
       "1           1  PHERES15784  Should be able to develop custom dynamic shape...   \n",
       "2           2  GERREQ10457  Experience in working crosslly with a  larger ...   \n",
       "3           3  GERSKL27235  Previous business experience, including but no...   \n",
       "4           4  HONSSK18415         Delivering fast and right the first  time.   \n",
       "5           5   INDRES9494    Track  department expenses and capital budget .   \n",
       "6           6  HONRES51852                         Meet  performance metrics.   \n",
       "7           7  UAEREQ34683     YOU MUST HAVEBachelors degree  in Engineering.   \n",
       "8           8   UAEREQ4612  After COVID-19: Ability to travel to manufactu...   \n",
       "9           9  INDEDU42721  Six Sigma qualification to  at least Green Bel...   \n",
       "\n",
       "             Type                                   cleanNewSentence  \n",
       "0  Responsibility  author review architecture design technical do...  \n",
       "1  Responsibility  able develop custom dynamic shape object scrip...  \n",
       "2     Requirement  experience working crosslly larger engineering...  \n",
       "3           Skill  previous business experience including not lim...  \n",
       "4       SoftSkill                   delivering fast right first time  \n",
       "5  Responsibility           track department expenses capital budget  \n",
       "6  Responsibility                           meet performance metrics  \n",
       "7     Requirement              must havebachelors degree engineering  \n",
       "8     Requirement  covid-19 ability travel manufacturing site ohi...  \n",
       "9       Education     six sigma qualification least green belt level  "
      ]
     },
     "execution_count": 43,
     "metadata": {},
     "output_type": "execute_result"
    }
   ],
   "source": [
    "# Let's get a list of stop words from the NLTK library\n",
    "stop = stopwords.words('english')\n",
    "# These words are important for our problem. We don't want to remove them.\n",
    "excluding = ['against', 'not', 'don', \"don't\",'ain', 'aren', \"aren't\", 'couldn', \"couldn't\",\n",
    "             'didn', \"didn't\", 'doesn', \"doesn't\", 'hadn', \"hadn't\", 'hasn', \"hasn't\", \n",
    "             'haven', \"haven't\", 'isn', \"isn't\", 'mightn', \"mightn't\", 'mustn', \"mustn't\",\n",
    "             'needn', \"needn't\",'shouldn', \"shouldn't\", 'wasn', \"wasn't\", 'weren', \n",
    "             \"weren't\", 'won', \"won't\", 'wouldn', \"wouldn't\"]\n",
    "# New stop word list\n",
    "stop_words = [word for word in stop if word not in excluding]\n",
    "snow = SnowballStemmer('english')\n",
    "def text_cleansing(sent): \n",
    "    \n",
    "    # Check if the sentence is a missing value\n",
    "    if isinstance(sent, str) == False:\n",
    "        sent = \"\"\n",
    "    filtered_sentence=[]\n",
    "    sent = sent.lower() # Lowercase \n",
    "    sent = sent.strip() # Remove leading/trailing whitespace\n",
    "    sent = sent.replace(r'/',' ')\n",
    "    sent = re.sub('\\s+', ' ', sent) # Remove extra space and tabs\n",
    "    sent = re.compile('<.*?>').sub('', sent) # Remove HTML tags/markups:\n",
    "    for w in word_tokenize(sent):\n",
    "        # We are applying some custom filtering here, feel free to try different things\n",
    "        # Check if it is not numeric and its length>2 and not in stop words\n",
    "        if(not w.isnumeric()) and (len(w)>2) and (w not in stop_words):  \n",
    "            # Stem and add to filtered list\n",
    "            filtered_sentence.append(w)\n",
    "    final_string = \" \".join(filtered_sentence) #final string of cleaned words\n",
    "        \n",
    "    return final_string\n",
    "df['cleanNewSentence'] = df['New_Sentence'].apply(lambda x: text_cleansing(x))\n",
    "df.head(10)"
   ]
  },
  {
   "cell_type": "code",
   "execution_count": 44,
   "id": "0d04bc68-e88a-415f-b14b-6363759f757b",
   "metadata": {},
   "outputs": [],
   "source": [
    "df_test['cleanNewSentence'] = df_test['New_Sentence'].apply(lambda x: text_cleansing(x))"
   ]
  },
  {
   "cell_type": "code",
   "execution_count": null,
   "id": "ffdd9f68-0ea1-44a2-94c7-b170b412ce61",
   "metadata": {},
   "outputs": [],
   "source": []
  },
  {
   "cell_type": "code",
   "execution_count": 39,
   "id": "e8f26c5c-74b5-48e9-8c30-ddeefa66e7f9",
   "metadata": {},
   "outputs": [
    {
     "data": {
      "text/html": [
       "<style>#sk-container-id-2 {color: black;background-color: white;}#sk-container-id-2 pre{padding: 0;}#sk-container-id-2 div.sk-toggleable {background-color: white;}#sk-container-id-2 label.sk-toggleable__label {cursor: pointer;display: block;width: 100%;margin-bottom: 0;padding: 0.3em;box-sizing: border-box;text-align: center;}#sk-container-id-2 label.sk-toggleable__label-arrow:before {content: \"▸\";float: left;margin-right: 0.25em;color: #696969;}#sk-container-id-2 label.sk-toggleable__label-arrow:hover:before {color: black;}#sk-container-id-2 div.sk-estimator:hover label.sk-toggleable__label-arrow:before {color: black;}#sk-container-id-2 div.sk-toggleable__content {max-height: 0;max-width: 0;overflow: hidden;text-align: left;background-color: #f0f8ff;}#sk-container-id-2 div.sk-toggleable__content pre {margin: 0.2em;color: black;border-radius: 0.25em;background-color: #f0f8ff;}#sk-container-id-2 input.sk-toggleable__control:checked~div.sk-toggleable__content {max-height: 200px;max-width: 100%;overflow: auto;}#sk-container-id-2 input.sk-toggleable__control:checked~label.sk-toggleable__label-arrow:before {content: \"▾\";}#sk-container-id-2 div.sk-estimator input.sk-toggleable__control:checked~label.sk-toggleable__label {background-color: #d4ebff;}#sk-container-id-2 div.sk-label input.sk-toggleable__control:checked~label.sk-toggleable__label {background-color: #d4ebff;}#sk-container-id-2 input.sk-hidden--visually {border: 0;clip: rect(1px 1px 1px 1px);clip: rect(1px, 1px, 1px, 1px);height: 1px;margin: -1px;overflow: hidden;padding: 0;position: absolute;width: 1px;}#sk-container-id-2 div.sk-estimator {font-family: monospace;background-color: #f0f8ff;border: 1px dotted black;border-radius: 0.25em;box-sizing: border-box;margin-bottom: 0.5em;}#sk-container-id-2 div.sk-estimator:hover {background-color: #d4ebff;}#sk-container-id-2 div.sk-parallel-item::after {content: \"\";width: 100%;border-bottom: 1px solid gray;flex-grow: 1;}#sk-container-id-2 div.sk-label:hover label.sk-toggleable__label {background-color: #d4ebff;}#sk-container-id-2 div.sk-serial::before {content: \"\";position: absolute;border-left: 1px solid gray;box-sizing: border-box;top: 0;bottom: 0;left: 50%;z-index: 0;}#sk-container-id-2 div.sk-serial {display: flex;flex-direction: column;align-items: center;background-color: white;padding-right: 0.2em;padding-left: 0.2em;position: relative;}#sk-container-id-2 div.sk-item {position: relative;z-index: 1;}#sk-container-id-2 div.sk-parallel {display: flex;align-items: stretch;justify-content: center;background-color: white;position: relative;}#sk-container-id-2 div.sk-item::before, #sk-container-id-2 div.sk-parallel-item::before {content: \"\";position: absolute;border-left: 1px solid gray;box-sizing: border-box;top: 0;bottom: 0;left: 50%;z-index: -1;}#sk-container-id-2 div.sk-parallel-item {display: flex;flex-direction: column;z-index: 1;position: relative;background-color: white;}#sk-container-id-2 div.sk-parallel-item:first-child::after {align-self: flex-end;width: 50%;}#sk-container-id-2 div.sk-parallel-item:last-child::after {align-self: flex-start;width: 50%;}#sk-container-id-2 div.sk-parallel-item:only-child::after {width: 0;}#sk-container-id-2 div.sk-dashed-wrapped {border: 1px dashed gray;margin: 0 0.4em 0.5em 0.4em;box-sizing: border-box;padding-bottom: 0.4em;background-color: white;}#sk-container-id-2 div.sk-label label {font-family: monospace;font-weight: bold;display: inline-block;line-height: 1.2em;}#sk-container-id-2 div.sk-label-container {text-align: center;}#sk-container-id-2 div.sk-container {/* jupyter's `normalize.less` sets `[hidden] { display: none; }` but bootstrap.min.css set `[hidden] { display: none !important; }` so we also need the `!important` here to be able to override the default hidden behavior on the sphinx rendered scikit-learn.org. See: https://github.com/scikit-learn/scikit-learn/issues/21755 */display: inline-block !important;position: relative;}#sk-container-id-2 div.sk-text-repr-fallback {display: none;}</style><div id=\"sk-container-id-2\" class=\"sk-top-container\"><div class=\"sk-text-repr-fallback\"><pre>TfidfVectorizer(max_features=100)</pre><b>In a Jupyter environment, please rerun this cell to show the HTML representation or trust the notebook. <br />On GitHub, the HTML representation is unable to render, please try loading this page with nbviewer.org.</b></div><div class=\"sk-container\" hidden><div class=\"sk-item\"><div class=\"sk-estimator sk-toggleable\"><input class=\"sk-toggleable__control sk-hidden--visually\" id=\"sk-estimator-id-2\" type=\"checkbox\" checked><label for=\"sk-estimator-id-2\" class=\"sk-toggleable__label sk-toggleable__label-arrow\">TfidfVectorizer</label><div class=\"sk-toggleable__content\"><pre>TfidfVectorizer(max_features=100)</pre></div></div></div></div></div>"
      ],
      "text/plain": [
       "TfidfVectorizer(max_features=100)"
      ]
     },
     "execution_count": 39,
     "metadata": {},
     "output_type": "execute_result"
    }
   ],
   "source": [
    "from sklearn.feature_extraction.text import TfidfVectorizer, CountVectorizer\n",
    "v = TfidfVectorizer(max_features=100)\n",
    "#v.fit(df.iloc[0:3,7])\n",
    "x = df[\"cleanNewSentence\"]\n",
    "v.fit(x)"
   ]
  },
  {
   "cell_type": "code",
   "execution_count": 45,
   "id": "73afec5c-26e9-40ad-8448-85d974b351f6",
   "metadata": {},
   "outputs": [
    {
     "data": {
      "text/html": [
       "<style>#sk-container-id-3 {color: black;background-color: white;}#sk-container-id-3 pre{padding: 0;}#sk-container-id-3 div.sk-toggleable {background-color: white;}#sk-container-id-3 label.sk-toggleable__label {cursor: pointer;display: block;width: 100%;margin-bottom: 0;padding: 0.3em;box-sizing: border-box;text-align: center;}#sk-container-id-3 label.sk-toggleable__label-arrow:before {content: \"▸\";float: left;margin-right: 0.25em;color: #696969;}#sk-container-id-3 label.sk-toggleable__label-arrow:hover:before {color: black;}#sk-container-id-3 div.sk-estimator:hover label.sk-toggleable__label-arrow:before {color: black;}#sk-container-id-3 div.sk-toggleable__content {max-height: 0;max-width: 0;overflow: hidden;text-align: left;background-color: #f0f8ff;}#sk-container-id-3 div.sk-toggleable__content pre {margin: 0.2em;color: black;border-radius: 0.25em;background-color: #f0f8ff;}#sk-container-id-3 input.sk-toggleable__control:checked~div.sk-toggleable__content {max-height: 200px;max-width: 100%;overflow: auto;}#sk-container-id-3 input.sk-toggleable__control:checked~label.sk-toggleable__label-arrow:before {content: \"▾\";}#sk-container-id-3 div.sk-estimator input.sk-toggleable__control:checked~label.sk-toggleable__label {background-color: #d4ebff;}#sk-container-id-3 div.sk-label input.sk-toggleable__control:checked~label.sk-toggleable__label {background-color: #d4ebff;}#sk-container-id-3 input.sk-hidden--visually {border: 0;clip: rect(1px 1px 1px 1px);clip: rect(1px, 1px, 1px, 1px);height: 1px;margin: -1px;overflow: hidden;padding: 0;position: absolute;width: 1px;}#sk-container-id-3 div.sk-estimator {font-family: monospace;background-color: #f0f8ff;border: 1px dotted black;border-radius: 0.25em;box-sizing: border-box;margin-bottom: 0.5em;}#sk-container-id-3 div.sk-estimator:hover {background-color: #d4ebff;}#sk-container-id-3 div.sk-parallel-item::after {content: \"\";width: 100%;border-bottom: 1px solid gray;flex-grow: 1;}#sk-container-id-3 div.sk-label:hover label.sk-toggleable__label {background-color: #d4ebff;}#sk-container-id-3 div.sk-serial::before {content: \"\";position: absolute;border-left: 1px solid gray;box-sizing: border-box;top: 0;bottom: 0;left: 50%;z-index: 0;}#sk-container-id-3 div.sk-serial {display: flex;flex-direction: column;align-items: center;background-color: white;padding-right: 0.2em;padding-left: 0.2em;position: relative;}#sk-container-id-3 div.sk-item {position: relative;z-index: 1;}#sk-container-id-3 div.sk-parallel {display: flex;align-items: stretch;justify-content: center;background-color: white;position: relative;}#sk-container-id-3 div.sk-item::before, #sk-container-id-3 div.sk-parallel-item::before {content: \"\";position: absolute;border-left: 1px solid gray;box-sizing: border-box;top: 0;bottom: 0;left: 50%;z-index: -1;}#sk-container-id-3 div.sk-parallel-item {display: flex;flex-direction: column;z-index: 1;position: relative;background-color: white;}#sk-container-id-3 div.sk-parallel-item:first-child::after {align-self: flex-end;width: 50%;}#sk-container-id-3 div.sk-parallel-item:last-child::after {align-self: flex-start;width: 50%;}#sk-container-id-3 div.sk-parallel-item:only-child::after {width: 0;}#sk-container-id-3 div.sk-dashed-wrapped {border: 1px dashed gray;margin: 0 0.4em 0.5em 0.4em;box-sizing: border-box;padding-bottom: 0.4em;background-color: white;}#sk-container-id-3 div.sk-label label {font-family: monospace;font-weight: bold;display: inline-block;line-height: 1.2em;}#sk-container-id-3 div.sk-label-container {text-align: center;}#sk-container-id-3 div.sk-container {/* jupyter's `normalize.less` sets `[hidden] { display: none; }` but bootstrap.min.css set `[hidden] { display: none !important; }` so we also need the `!important` here to be able to override the default hidden behavior on the sphinx rendered scikit-learn.org. See: https://github.com/scikit-learn/scikit-learn/issues/21755 */display: inline-block !important;position: relative;}#sk-container-id-3 div.sk-text-repr-fallback {display: none;}</style><div id=\"sk-container-id-3\" class=\"sk-top-container\"><div class=\"sk-text-repr-fallback\"><pre>TfidfVectorizer(max_features=100)</pre><b>In a Jupyter environment, please rerun this cell to show the HTML representation or trust the notebook. <br />On GitHub, the HTML representation is unable to render, please try loading this page with nbviewer.org.</b></div><div class=\"sk-container\" hidden><div class=\"sk-item\"><div class=\"sk-estimator sk-toggleable\"><input class=\"sk-toggleable__control sk-hidden--visually\" id=\"sk-estimator-id-3\" type=\"checkbox\" checked><label for=\"sk-estimator-id-3\" class=\"sk-toggleable__label sk-toggleable__label-arrow\">TfidfVectorizer</label><div class=\"sk-toggleable__content\"><pre>TfidfVectorizer(max_features=100)</pre></div></div></div></div></div>"
      ],
      "text/plain": [
       "TfidfVectorizer(max_features=100)"
      ]
     },
     "execution_count": 45,
     "metadata": {},
     "output_type": "execute_result"
    }
   ],
   "source": [
    "from sklearn.feature_extraction.text import TfidfVectorizer, CountVectorizer\n",
    "v_test = TfidfVectorizer(max_features=100)\n",
    "#v.fit(df.iloc[0:3,7])\n",
    "x_test = df_test[\"cleanNewSentence\"]\n",
    "v_test.fit(x_test)"
   ]
  },
  {
   "cell_type": "code",
   "execution_count": 46,
   "id": "8755e750-c9ad-4a7f-9580-6d7b978e6103",
   "metadata": {},
   "outputs": [],
   "source": [
    "x_tfidf_test = v_test.transform(x_test)"
   ]
  },
  {
   "cell_type": "code",
   "execution_count": 13,
   "id": "66ea1e2e-2fb0-41ba-8671-bdbef401b325",
   "metadata": {},
   "outputs": [
    {
     "data": {
      "text/plain": [
       "array([3, 3, 2, ..., 5, 5, 0])"
      ]
     },
     "execution_count": 13,
     "metadata": {},
     "output_type": "execute_result"
    }
   ],
   "source": [
    "from sklearn.preprocessing import LabelEncoder\n",
    "encoder = LabelEncoder()\n",
    "y = encoder.fit_transform(df.Type)\n",
    "y"
   ]
  },
  {
   "cell_type": "code",
   "execution_count": 15,
   "id": "0d695e3f-9f26-4c23-87a4-9d281e460e5a",
   "metadata": {},
   "outputs": [
    {
     "name": "stdout",
     "output_type": "stream",
     "text": [
      "Naive Bayes Accuracy Score ->  60.13474174498877\n"
     ]
    }
   ],
   "source": [
    "from sklearn import linear_model, naive_bayes, svm\n",
    "from sklearn.metrics import accuracy_score, confusion_matrix\n",
    "# fit the training dataset on the NB classifier\n",
    "n = naive_bayes.MultinomialNB()\n",
    "n.fit(x_tfidf, y)# predict the labels on validation dataset\n",
    "n_pred = n.predict(x_tfidf)# Use accuracy_score function to get the accuracy\n",
    "print(\"Naive Bayes Accuracy Score -> \",accuracy_score(n_pred, y)*100)"
   ]
  },
  {
   "cell_type": "code",
   "execution_count": 33,
   "id": "31aac2d2-9fd4-4a9e-99a1-67f2040b4e1f",
   "metadata": {},
   "outputs": [
    {
     "name": "stdout",
     "output_type": "stream",
     "text": [
      "SVM Accuracy Score ->  63.23213840139732\n"
     ]
    }
   ],
   "source": [
    "s = svm.LinearSVC(C=1.0)\n",
    "s.fit(x_tfidf, y)# predict the labels on validation dataset\n",
    "s_pred = s.predict(x_tfidf)# Use accuracy_score function to get the accuracy\n",
    "print(\"SVM Accuracy Score -> \",accuracy_score(s_pred, y)*100)"
   ]
  },
  {
   "cell_type": "code",
   "execution_count": 49,
   "id": "077b533f-ed87-4fc2-b86a-5edbbdaf43f7",
   "metadata": {},
   "outputs": [],
   "source": [
    "s_pred_test = s.predict(x_tfidf_test)"
   ]
  },
  {
   "cell_type": "code",
   "execution_count": null,
   "id": "c0abadee-2c8f-464d-a2f1-087443a26443",
   "metadata": {},
   "outputs": [],
   "source": [
    "print(\"SVM Test Accuracy Score -> \",accuracy_score(s_pred_test, y)*100)"
   ]
  },
  {
   "cell_type": "code",
   "execution_count": 18,
   "id": "a6872180-c129-4087-a9cb-37fad954b938",
   "metadata": {},
   "outputs": [],
   "source": [
    "import matplotlib.pyplot as plt"
   ]
  },
  {
   "cell_type": "code",
   "execution_count": 19,
   "id": "2960b68b-70a3-4bb7-a923-149be8342de7",
   "metadata": {},
   "outputs": [
    {
     "data": {
      "text/plain": [
       "array([-0.62826101, -0.63288561, -0.11131086, -0.1250272 , -0.03134965,\n",
       "       -0.04526922,  0.05629036,  0.81384997, -0.09882565,  0.12850879,\n",
       "        0.88703797, -0.08469791, -0.17716002,  0.53099814, -0.05037121,\n",
       "       -0.22497016, -0.23890496, -0.07734341,  1.51025726, -0.1898853 ,\n",
       "       -0.06456027, -0.26973893, -0.11551001, -0.24416033,  0.14816094,\n",
       "        0.72006814, -0.18002179, -0.17020615,  0.01134142, -0.05774756,\n",
       "       -0.29708367,  0.24142848, -0.02889058,  0.02431416, -0.0241099 ,\n",
       "       -0.08696458,  0.36799604, -0.15465614, -0.14436438,  0.04171855,\n",
       "        0.18675073, -0.13462732, -0.1420483 , -0.11524554, -0.14492658,\n",
       "        0.03000629, -0.72144187,  0.02741955, -0.06077445,  0.04527077,\n",
       "       -0.17544513, -1.13511681, -0.11176981,  0.14812791, -0.06016423,\n",
       "       -0.16207378, -0.15011424,  0.2167967 , -0.12508409, -0.0963896 ,\n",
       "       -0.22442247, -0.06102348, -0.02749915, -0.06387854, -0.10691525,\n",
       "       -0.17292013, -0.15172052, -0.20109004,  0.21649874, -0.25149809,\n",
       "       -0.17445291, -0.10695162, -0.08316714, -0.09365598,  1.02846933,\n",
       "        0.02345476, -0.17944564, -0.06962462, -0.23464959, -0.0101749 ,\n",
       "       -0.14466913, -0.11691143, -0.22796524, -0.08662884,  0.017549  ,\n",
       "       -0.1699716 , -0.17344152,  0.08187424,  0.09168909, -0.13799751,\n",
       "       -0.08086172, -0.07261041, -0.18988869, -0.25616602, -0.39629172,\n",
       "       -0.0487626 , -0.15610885, -0.20124894, -0.1682033 , -2.00488825])"
      ]
     },
     "execution_count": 19,
     "metadata": {},
     "output_type": "execute_result"
    }
   ],
   "source": [
    "s.coef_[0]"
   ]
  },
  {
   "cell_type": "code",
   "execution_count": 28,
   "id": "88aafa44-62de-4558-ae8d-d0acd4c29c6c",
   "metadata": {},
   "outputs": [
    {
     "data": {
      "image/png": "[encoded data removed]",
      "text/plain": [
       "<Figure size 640x480 with 2 Axes>"
      ]
     },
     "metadata": {},
     "output_type": "display_data"
    }
   ],
   "source": [
    "    \n",
    "    class_names = np.unique(y)\n",
    "    title = 'Confusion matrix'\n",
    "    # Compute confusion matrix\n",
    "    cm = confusion_matrix(y, s_pred)\n",
    "    # Only use the labels that appear in the data\n",
    "    classes = class_names\n",
    "    fig, ax = plt.subplots()\n",
    "    im = ax.imshow(cm, interpolation='nearest', cmap=plt.cm.Blues)\n",
    "    ax.figure.colorbar(im, ax=ax)\n",
    "    # We want to show all ticks...\n",
    "    ax.set(xticks=np.arange(cm.shape[1]),\n",
    "           yticks=np.arange(cm.shape[0]),\n",
    "           # ... and label them with the respective list entries\n",
    "           xticklabels=classes, yticklabels=classes,\n",
    "           title=title,\n",
    "           ylabel='True label',\n",
    "           xlabel='Predicted label')\n",
    "\n",
    "    # Rotate the tick labels and set their alignment.\n",
    "    plt.setp(ax.get_xticklabels(), rotation=45, ha=\"right\",\n",
    "             rotation_mode=\"anchor\")\n",
    "    normalize=False\n",
    "    # Loop over data dimensions and create text annotations.\n",
    "    fmt = '.2f' if normalize else 'd'\n",
    "    thresh = cm.max() / 2.\n",
    "    for i in range(cm.shape[0]):\n",
    "        for j in range(cm.shape[1]):\n",
    "            ax.text(j, i, format(cm[i, j], fmt),\n",
    "                    ha=\"center\", va=\"center\",\n",
    "                    color=\"white\" if cm[i, j] > thresh else \"black\")\n",
    "    fig.tight_layout()"
   ]
  },
  {
   "cell_type": "code",
   "execution_count": 29,
   "id": "1e8f8997-2b1f-499a-b7fb-782d3edd623f",
   "metadata": {},
   "outputs": [
    {
     "data": {
      "text/plain": [
       "array([0, 1, 2, 3, 4, 5])"
      ]
     },
     "execution_count": 29,
     "metadata": {},
     "output_type": "execute_result"
    }
   ],
   "source": [
    "np.unique(y)"
   ]
  },
  {
   "cell_type": "code",
   "execution_count": null,
   "id": "d4708fd2-3ab6-4d2f-aba2-ddd0937eb926",
   "metadata": {},
   "outputs": [],
   "source": []
  }
 ],
 "metadata": {
  "kernelspec": {
   "display_name": "default:Python",
   "language": "python",
   "name": "conda-env-default-py"
  },
  "language_info": {
   "codemirror_mode": {
    "name": "ipython",
    "version": 3
   },
   "file_extension": ".py",
   "mimetype": "text/x-python",
   "name": "python",
   "nbconvert_exporter": "python",
   "pygments_lexer": "ipython3",
   "version": "3.9.13"
  }
 },
 "nbformat": 4,
 "nbformat_minor": 5
}
